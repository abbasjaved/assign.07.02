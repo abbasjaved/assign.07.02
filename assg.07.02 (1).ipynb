{
 "cells": [
  {
   "cell_type": "code",
   "execution_count": 1,
   "id": "9d13cd87-749d-47f6-9747-09f6133edd21",
   "metadata": {},
   "outputs": [
    {
     "name": "stdin",
     "output_type": "stream",
     "text": [
      "Enter the password  aarrUU3*&^\n"
     ]
    },
    {
     "name": "stdout",
     "output_type": "stream",
     "text": [
      "valid Password\n"
     ]
    }
   ],
   "source": [
    "a = input(\"Enter the password \")\n",
    "char = 0\n",
    "letter = 0\n",
    "dig = 0\n",
    "upper = 0\n",
    "lower = 0\n",
    "for i in a:\n",
    "    if i.isdigit():\n",
    "        dig = dig + 1\n",
    "\n",
    "    elif i.isalpha():\n",
    "        if i.isupper():\n",
    "            upper = upper + 1\n",
    "        \n",
    "        elif i.islower():\n",
    "            lower = lower + 1\n",
    "        else:\n",
    "            letter = letter + 1\n",
    "        \n",
    "    elif i.isdigit() == False and i.isalpha() == False:\n",
    "        char = char + 1\n",
    "    else:\n",
    "        pass\n",
    "\n",
    "        \n",
    "\n",
    "if len(a) <= 10:\n",
    "        if dig >= 1 and char >=3 and upper>=2 and lower >=2:\n",
    "            print(\"valid Password\")\n",
    "        else:\n",
    "            print(\"Invalid Password\")\n",
    "else:\n",
    "        print(\"Invalid Password\")\n"
   ]
  },
  {
   "cell_type": "code",
   "execution_count": 127,
   "id": "3c6b67a5-9183-436a-9e90-d15eff7a4a98",
   "metadata": {},
   "outputs": [],
   "source": [
    "def test(a):\n",
    "    for i in a:\n",
    "        if i.isalpha():\n",
    "            print(\"True\")\n",
    "            break\n",
    "        else:\n",
    "            print(\"False\")\n",
    "            break"
   ]
  },
  {
   "cell_type": "code",
   "execution_count": 129,
   "id": "4d2f98e7-de8f-46cf-98c3-4282e52d8357",
   "metadata": {},
   "outputs": [
    {
     "name": "stdout",
     "output_type": "stream",
     "text": [
      "False\n"
     ]
    }
   ],
   "source": [
    "test(\"1javed\")"
   ]
  },
  {
   "cell_type": "code",
   "execution_count": 14,
   "id": "9c3d0cec-764f-4187-bcf9-e7f8e7915db2",
   "metadata": {},
   "outputs": [],
   "source": [
    "#Solution 2:-"
   ]
  },
  {
   "cell_type": "code",
   "execution_count": 34,
   "id": "26f77d54-7ce3-410f-8359-040ba0df85bd",
   "metadata": {},
   "outputs": [
    {
     "name": "stdin",
     "output_type": "stream",
     "text": [
      "enter:  patna\n"
     ]
    },
    {
     "name": "stdout",
     "output_type": "stream",
     "text": [
      "True\n"
     ]
    }
   ],
   "source": [
    "n = input(\"enter: \")\n",
    "starts_with = lambda x: True if x.startswith('p') else False\n",
    "print(starts_with(n.lower()))"
   ]
  },
  {
   "cell_type": "code",
   "execution_count": 93,
   "id": "f46dea82-6460-4fe5-8656-07b261c4ce9e",
   "metadata": {},
   "outputs": [
    {
     "name": "stdin",
     "output_type": "stream",
     "text": [
      "enter:  9\n"
     ]
    },
    {
     "name": "stdout",
     "output_type": "stream",
     "text": [
      "True\n"
     ]
    }
   ],
   "source": [
    "n = input(\"enter: \")\n",
    "starts_with = lambda x: True if x.isnumeric() else False\n",
    "print(starts_with(n.lower()))"
   ]
  },
  {
   "cell_type": "code",
   "execution_count": 44,
   "id": "e311f540-0cf0-4b65-a550-d496480c95df",
   "metadata": {},
   "outputs": [],
   "source": [
    "l = [(\"mango\",99),(\"orange\",80), (\"grapes\", 1000)]"
   ]
  },
  {
   "cell_type": "code",
   "execution_count": 49,
   "id": "738c3338-9fcc-4fa8-ab45-84029abd92e6",
   "metadata": {},
   "outputs": [
    {
     "data": {
      "text/plain": [
       "'orange'"
      ]
     },
     "execution_count": 49,
     "metadata": {},
     "output_type": "execute_result"
    }
   ],
   "source": [
    "l[1][0]"
   ]
  },
  {
   "cell_type": "code",
   "execution_count": 72,
   "id": "2201614d-f0ba-449b-8447-b3b7518e9a8f",
   "metadata": {},
   "outputs": [],
   "source": [
    "l1= []\n",
    "def test(a):\n",
    "    l1= []\n",
    "    l2 = []\n",
    "    for i in a:\n",
    "        for j in i:\n",
    "            if type(j)==int:\n",
    "                l1.append(j)\n",
    "            else:\n",
    "                l2.append(j)\n",
    "    return l2,l1"
   ]
  },
  {
   "cell_type": "code",
   "execution_count": 73,
   "id": "eb42a06a-5649-46f5-871c-dc83ec90b0e6",
   "metadata": {},
   "outputs": [
    {
     "data": {
      "text/plain": [
       "(['mango', 'orange', 'grapes'], [99, 80, 1000])"
      ]
     },
     "execution_count": 73,
     "metadata": {},
     "output_type": "execute_result"
    }
   ],
   "source": [
    "test(l)"
   ]
  },
  {
   "cell_type": "code",
   "execution_count": 74,
   "id": "a6e170fa-9308-4b3c-bcb1-3a3e0a2223ee",
   "metadata": {},
   "outputs": [],
   "source": [
    "#Find the squares of numbers from 1 to 10:"
   ]
  },
  {
   "cell_type": "code",
   "execution_count": 75,
   "id": "8887cc55-1ca6-4a94-9090-91fb615fa068",
   "metadata": {},
   "outputs": [],
   "source": [
    "l = [1,2,3,4,5,6,7,8,9,10]"
   ]
  },
  {
   "cell_type": "code",
   "execution_count": 83,
   "id": "fb9fc459-3e3d-400c-959b-adcd427ccd23",
   "metadata": {},
   "outputs": [],
   "source": [
    "sq = lambda x: x**2"
   ]
  },
  {
   "cell_type": "code",
   "execution_count": 84,
   "id": "bc39ae8c-d154-4a1f-abfe-830cfe0e5a0b",
   "metadata": {},
   "outputs": [
    {
     "data": {
      "text/plain": [
       "[1, 4, 9, 16, 25, 36, 49, 64, 81, 100]"
      ]
     },
     "execution_count": 84,
     "metadata": {},
     "output_type": "execute_result"
    }
   ],
   "source": [
    "list(map(sq,l))"
   ]
  },
  {
   "cell_type": "code",
   "execution_count": 85,
   "id": "5878ccb9-b598-4943-9b5a-239c42dac3d9",
   "metadata": {},
   "outputs": [],
   "source": [
    "qube = lambda x: x**3"
   ]
  },
  {
   "cell_type": "code",
   "execution_count": 86,
   "id": "606393c4-1904-4102-832f-a49a2a368a89",
   "metadata": {},
   "outputs": [
    {
     "data": {
      "text/plain": [
       "[1, 8, 27, 64, 125, 216, 343, 512, 729, 1000]"
      ]
     },
     "execution_count": 86,
     "metadata": {},
     "output_type": "execute_result"
    }
   ],
   "source": [
    "list(map(qube,l))"
   ]
  },
  {
   "cell_type": "code",
   "execution_count": 89,
   "id": "5ae892bd-6d7b-4251-a848-06c98010c266",
   "metadata": {},
   "outputs": [],
   "source": [
    "even = lambda x : x%2==0"
   ]
  },
  {
   "cell_type": "code",
   "execution_count": 91,
   "id": "823a3e74-b86c-488a-a5a0-499f04a1b675",
   "metadata": {},
   "outputs": [
    {
     "data": {
      "text/plain": [
       "[2, 4, 6, 8, 10]"
      ]
     },
     "execution_count": 91,
     "metadata": {},
     "output_type": "execute_result"
    }
   ],
   "source": [
    "list(filter(even,l))"
   ]
  },
  {
   "cell_type": "code",
   "execution_count": 107,
   "id": "58125a5d-293b-4ebd-a91f-6ce12fadd39c",
   "metadata": {},
   "outputs": [
    {
     "name": "stdin",
     "output_type": "stream",
     "text": [
      "Enter the number:  34\n"
     ]
    },
    {
     "data": {
      "text/plain": [
       "True"
      ]
     },
     "execution_count": 107,
     "metadata": {},
     "output_type": "execute_result"
    }
   ],
   "source": [
    "n = int(input(\"Enter the number: \"))\n",
    "check_even = lambda x : True if x%2==0 else False\n",
    "check_even(n)"
   ]
  },
  {
   "cell_type": "code",
   "execution_count": 102,
   "id": "eb20f979-972c-4f28-8b5e-3e82f4f772a5",
   "metadata": {},
   "outputs": [
    {
     "data": {
      "text/plain": [
       "True"
      ]
     },
     "execution_count": 102,
     "metadata": {},
     "output_type": "execute_result"
    }
   ],
   "source": [
    "check(2)"
   ]
  },
  {
   "cell_type": "code",
   "execution_count": 108,
   "id": "276eb44e-067e-4388-80d6-75b4174ede94",
   "metadata": {},
   "outputs": [],
   "source": [
    "odd = lambda x: x%2 !=0"
   ]
  },
  {
   "cell_type": "code",
   "execution_count": 109,
   "id": "fbc1cf61-c512-4aa9-8a11-4ab350761d4a",
   "metadata": {},
   "outputs": [
    {
     "data": {
      "text/plain": [
       "[1, 3, 5, 7, 9]"
      ]
     },
     "execution_count": 109,
     "metadata": {},
     "output_type": "execute_result"
    }
   ],
   "source": [
    "list(filter(odd,l))"
   ]
  },
  {
   "cell_type": "code",
   "execution_count": 120,
   "id": "625c5f90-7754-468e-a974-ce069e814aa5",
   "metadata": {},
   "outputs": [],
   "source": [
    "l = [1,2,3,4,5,6,-1,-2,-3,-4,-5,0]"
   ]
  },
  {
   "cell_type": "code",
   "execution_count": 121,
   "id": "1f60b7fb-0e5a-4be8-a468-5a834224c092",
   "metadata": {},
   "outputs": [],
   "source": [
    "positive = lambda x: x>=0 "
   ]
  },
  {
   "cell_type": "code",
   "execution_count": 122,
   "id": "6d0166a6-9478-43e3-ae34-531efcc17903",
   "metadata": {},
   "outputs": [],
   "source": [
    "negative =  lambda x: x<0"
   ]
  },
  {
   "cell_type": "code",
   "execution_count": 123,
   "id": "0fd574b0-e42f-4bca-b990-d869bde1b650",
   "metadata": {},
   "outputs": [
    {
     "data": {
      "text/plain": [
       "([1, 2, 3, 4, 5, 6, 0], [-1, -2, -3, -4, -5])"
      ]
     },
     "execution_count": 123,
     "metadata": {},
     "output_type": "execute_result"
    }
   ],
   "source": [
    "list(filter(positive, l)), list(filter(negative, l))"
   ]
  },
  {
   "cell_type": "code",
   "execution_count": null,
   "id": "050a5fe4-8f1e-410e-be05-0387f1f6cfe6",
   "metadata": {},
   "outputs": [],
   "source": []
  },
  {
   "cell_type": "code",
   "execution_count": null,
   "id": "8b70ef4c-6a0d-435f-9a02-fe0ed841ce95",
   "metadata": {},
   "outputs": [],
   "source": []
  }
 ],
 "metadata": {
  "kernelspec": {
   "display_name": "Python 3 (ipykernel)",
   "language": "python",
   "name": "python3"
  },
  "language_info": {
   "codemirror_mode": {
    "name": "ipython",
    "version": 3
   },
   "file_extension": ".py",
   "mimetype": "text/x-python",
   "name": "python",
   "nbconvert_exporter": "python",
   "pygments_lexer": "ipython3",
   "version": "3.10.8"
  }
 },
 "nbformat": 4,
 "nbformat_minor": 5
}
